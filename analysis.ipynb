{
 "cells": [
  {
   "cell_type": "markdown",
   "metadata": {},
   "source": [
    "<h2><center>Project 1</center></h2>"
   ]
  },
  {
   "cell_type": "code",
   "execution_count": 990,
   "metadata": {},
   "outputs": [],
   "source": [
    "import numpy as np\n",
    "import pandas as pd \n",
    "import matplotlib.pyplot as plt\n",
    "import seaborn as sns\n",
    "from scipy import stats\n",
    "import warnings\n",
    "warnings.filterwarnings('ignore')\n",
    "\n",
    "%matplotlib inline"
   ]
  },
  {
   "cell_type": "markdown",
   "metadata": {},
   "source": [
    "<h3><center>Introduction</center></h3>\n",
    "<b>What is heart attack?</b>\n",
    "\n",
    "A heart attack, also called a myocardial infarction, happens when a part of the heart muscle doesn’t get enough blood.\n",
    "\n",
    "The more time that passes without treatment to restore blood flow, the greater the damage to the heart muscle.\n",
    "\n",
    "Coronary artery disease (CAD) is the main cause of heart attack. A less common cause is a severe spasm, or sudden contraction, of a coronary artery that can stop blood flow to the heart muscle (Centers for Disease Control and Prevention)."
   ]
  },
  {
   "cell_type": "markdown",
   "metadata": {},
   "source": [
    "The dataset was taken from the Kaggle repository. <b>The link to the source:</b> https://www.kaggle.com/datasets/rashikrahmanpritom/heart-attack-analysis-prediction-dataset\n"
   ]
  },
  {
   "cell_type": "code",
   "execution_count": 991,
   "metadata": {},
   "outputs": [
    {
     "data": {
      "text/html": [
       "<div>\n",
       "<style scoped>\n",
       "    .dataframe tbody tr th:only-of-type {\n",
       "        vertical-align: middle;\n",
       "    }\n",
       "\n",
       "    .dataframe tbody tr th {\n",
       "        vertical-align: top;\n",
       "    }\n",
       "\n",
       "    .dataframe thead th {\n",
       "        text-align: right;\n",
       "    }\n",
       "</style>\n",
       "<table border=\"1\" class=\"dataframe\">\n",
       "  <thead>\n",
       "    <tr style=\"text-align: right;\">\n",
       "      <th></th>\n",
       "      <th>age</th>\n",
       "      <th>sex</th>\n",
       "      <th>cp</th>\n",
       "      <th>trtbps</th>\n",
       "      <th>chol</th>\n",
       "      <th>fbs</th>\n",
       "      <th>restecg</th>\n",
       "      <th>thalachh</th>\n",
       "      <th>exng</th>\n",
       "      <th>oldpeak</th>\n",
       "      <th>slp</th>\n",
       "      <th>caa</th>\n",
       "      <th>thall</th>\n",
       "      <th>output</th>\n",
       "    </tr>\n",
       "  </thead>\n",
       "  <tbody>\n",
       "    <tr>\n",
       "      <th>0</th>\n",
       "      <td>63</td>\n",
       "      <td>Male</td>\n",
       "      <td>3</td>\n",
       "      <td>145</td>\n",
       "      <td>233</td>\n",
       "      <td>1</td>\n",
       "      <td>0</td>\n",
       "      <td>150</td>\n",
       "      <td>0</td>\n",
       "      <td>2.3</td>\n",
       "      <td>0</td>\n",
       "      <td>0</td>\n",
       "      <td>1</td>\n",
       "      <td>1</td>\n",
       "    </tr>\n",
       "    <tr>\n",
       "      <th>1</th>\n",
       "      <td>37</td>\n",
       "      <td>Male</td>\n",
       "      <td>2</td>\n",
       "      <td>130</td>\n",
       "      <td>250</td>\n",
       "      <td>0</td>\n",
       "      <td>1</td>\n",
       "      <td>187</td>\n",
       "      <td>0</td>\n",
       "      <td>3.5</td>\n",
       "      <td>0</td>\n",
       "      <td>0</td>\n",
       "      <td>2</td>\n",
       "      <td>1</td>\n",
       "    </tr>\n",
       "    <tr>\n",
       "      <th>2</th>\n",
       "      <td>41</td>\n",
       "      <td>Female</td>\n",
       "      <td>1</td>\n",
       "      <td>130</td>\n",
       "      <td>204</td>\n",
       "      <td>0</td>\n",
       "      <td>0</td>\n",
       "      <td>172</td>\n",
       "      <td>0</td>\n",
       "      <td>1.4</td>\n",
       "      <td>2</td>\n",
       "      <td>0</td>\n",
       "      <td>2</td>\n",
       "      <td>1</td>\n",
       "    </tr>\n",
       "    <tr>\n",
       "      <th>3</th>\n",
       "      <td>56</td>\n",
       "      <td>Male</td>\n",
       "      <td>1</td>\n",
       "      <td>120</td>\n",
       "      <td>236</td>\n",
       "      <td>0</td>\n",
       "      <td>1</td>\n",
       "      <td>178</td>\n",
       "      <td>0</td>\n",
       "      <td>0.8</td>\n",
       "      <td>2</td>\n",
       "      <td>0</td>\n",
       "      <td>2</td>\n",
       "      <td>1</td>\n",
       "    </tr>\n",
       "    <tr>\n",
       "      <th>4</th>\n",
       "      <td>57</td>\n",
       "      <td>Female</td>\n",
       "      <td>0</td>\n",
       "      <td>120</td>\n",
       "      <td>354</td>\n",
       "      <td>0</td>\n",
       "      <td>1</td>\n",
       "      <td>163</td>\n",
       "      <td>1</td>\n",
       "      <td>0.6</td>\n",
       "      <td>2</td>\n",
       "      <td>0</td>\n",
       "      <td>2</td>\n",
       "      <td>1</td>\n",
       "    </tr>\n",
       "  </tbody>\n",
       "</table>\n",
       "</div>"
      ],
      "text/plain": [
       "   age     sex  cp  trtbps  chol  fbs  restecg  thalachh  exng  oldpeak  slp  \\\n",
       "0   63    Male   3     145   233    1        0       150     0      2.3    0   \n",
       "1   37    Male   2     130   250    0        1       187     0      3.5    0   \n",
       "2   41  Female   1     130   204    0        0       172     0      1.4    2   \n",
       "3   56    Male   1     120   236    0        1       178     0      0.8    2   \n",
       "4   57  Female   0     120   354    0        1       163     1      0.6    2   \n",
       "\n",
       "   caa  thall  output  \n",
       "0    0      1       1  \n",
       "1    0      2       1  \n",
       "2    0      2       1  \n",
       "3    0      2       1  \n",
       "4    0      2       1  "
      ]
     },
     "execution_count": 991,
     "metadata": {},
     "output_type": "execute_result"
    }
   ],
   "source": [
    "df = pd.read_csv('heart.csv')\n",
    "df['sex'].replace(1, 'Male',inplace=True)\n",
    "df['sex'].replace(0, 'Female',inplace=True)\n",
    "\n",
    "df.head()"
   ]
  },
  {
   "cell_type": "markdown",
   "metadata": {},
   "source": [
    "<b>Dataset description</b>\n",
    "\n",
    "Age : age of the patient\n",
    "\n",
    "Sex : sex of the patient\n",
    "\n",
    "exng: exercise induced angina (1 = yes; 0 = no)\n",
    "\n",
    "oldpeak - previous peak\n",
    "\n",
    "slp - slope\n",
    "\n",
    "caa: number of major vessels (0-3)\n",
    "\n",
    "thall - Thalium Stress Test result ~ (0,3)\n",
    "\n",
    "cp : chest pain type\n",
    "\n",
    "<ul><li>Value 0: typical angina</li>\n",
    "<li>Value 1: atypical angina</li>\n",
    "<li>Value 2: non-anginal pain</li> \n",
    "<li>Value 3: asymptomatic</li>\n",
    "</ul>\n",
    "\n",
    "trtbps : resting blood pressure (in mm Hg)\n",
    "\n",
    "chol : cholestoral in mg/dl fetched via BMI sensor\n",
    "\n",
    "fbs : (fasting blood sugar > 120 mg/dl) (1 = true; 0 = false)\n",
    "\n",
    "restecg : resting electrocardiographic results\n",
    "\n",
    "<ul><li>Value 0: normal</li> \n",
    "    <li>Value 1: having ST-T wave abnormality (T wave inversions and/or ST elevation or depression of > 0.05 mV)</li> \n",
    "    <li>Value 2: showing probable or definite left ventricular hypertrophy by Estes' criteria</li>\n",
    "</ul>\n",
    "\n",
    "thalachh : maximum heart rate achieved\n",
    "\n",
    "output : 0= less chance of heart attack 1= more chance of heart attack"
   ]
  },
  {
   "cell_type": "code",
   "execution_count": 992,
   "metadata": {
    "scrolled": true
   },
   "outputs": [
    {
     "name": "stdout",
     "output_type": "stream",
     "text": [
      "The types of data\n",
      "age           int64\n",
      "sex          object\n",
      "cp            int64\n",
      "trtbps        int64\n",
      "chol          int64\n",
      "fbs           int64\n",
      "restecg       int64\n",
      "thalachh      int64\n",
      "exng          int64\n",
      "oldpeak     float64\n",
      "slp           int64\n",
      "caa           int64\n",
      "thall         int64\n",
      "output        int64\n",
      "dtype: object\n",
      "\n",
      "\n",
      "The dataset has 303 rows and 14 columns\n"
     ]
    }
   ],
   "source": [
    "print(f'The types of data\\n{df.dtypes}\\n\\n')\n",
    "print(f'The dataset has {df.shape[0]} rows and {df.shape[1]} columns')"
   ]
  },
  {
   "cell_type": "markdown",
   "metadata": {},
   "source": [
    "There are <b>categorical</b> variable (sex), <b>discrete</b> numerical variables (cp, fbs, restecg, exng, slp, caa, thall, output) and <b>continuous</b> numerical variable (age, oldpeak, trtbps, chol, thalachh)\n",
    "\n",
    "From the dataset it can be seen that there is <b>no missing values</b>"
   ]
  },
  {
   "cell_type": "code",
   "execution_count": 993,
   "metadata": {},
   "outputs": [
    {
     "name": "stdout",
     "output_type": "stream",
     "text": [
      "age         0\n",
      "sex         0\n",
      "cp          0\n",
      "trtbps      0\n",
      "chol        0\n",
      "fbs         0\n",
      "restecg     0\n",
      "thalachh    0\n",
      "exng        0\n",
      "oldpeak     0\n",
      "slp         0\n",
      "caa         0\n",
      "thall       0\n",
      "output      0\n",
      "dtype: int64\n"
     ]
    }
   ],
   "source": [
    "print(df.isnull().sum())"
   ]
  },
  {
   "cell_type": "markdown",
   "metadata": {},
   "source": [
    "Outliers are extreme values that differ from most other data points in a dataset. They can have a big impact on your statistical analyses and skew the results of any hypothesis test (scribbr.com). We need to plot box plots to find outliers located outside the whiskers and remove them.<br><br>\n",
    "\n",
    "Apart from that, the normality of <b>continuous variables</b> needs to be checked to conduct parametric or non-parametric statistical tests. One of the tests from scipy library to check if the data is normally distributed is Shapiro-Wilk test (pyshark.com)\n",
    "\n",
    "H0: distribution of the sample is not significantly different from a normal distribution\n",
    "\n",
    "H1: distribution of the sample is significantly different from a normal distribution<br><br>\n",
    "\n",
    "Choose threshold as 5%\n",
    "\n"
   ]
  },
  {
   "cell_type": "code",
   "execution_count": 994,
   "metadata": {
    "scrolled": true
   },
   "outputs": [
    {
     "data": {
      "image/png": "[encoded data removed]",
      "text/plain": [
       "<Figure size 432x288 with 1 Axes>"
      ]
     },
     "metadata": {
      "needs_background": "light"
     },
     "output_type": "display_data"
    }
   ],
   "source": [
    "plot=sns.boxplot(df['age'])\n",
    "plt.title('Boxplot for age')\n",
    "plt.xlabel('Age')\n",
    "\n",
    "plt.show()"
   ]
  },
  {
   "cell_type": "code",
   "execution_count": 995,
   "metadata": {
    "scrolled": true
   },
   "outputs": [
    {
     "data": {
      "image/png": "[encoded data removed]",
      "text/plain": [
       "<Figure size 432x288 with 1 Axes>"
      ]
     },
     "metadata": {
      "needs_background": "light"
     },
     "output_type": "display_data"
    }
   ],
   "source": [
    "plot=sns.boxplot(df['oldpeak'])\n",
    "plt.title('Boxplot for oldpeak')\n",
    "plt.xlabel('Oldpeak')\n",
    "\n",
    "plt.show()"
   ]
  },
  {
   "cell_type": "code",
   "execution_count": 996,
   "metadata": {},
   "outputs": [
    {
     "data": {
      "image/png": "[encoded data removed]",
      "text/plain": [
       "<Figure size 432x288 with 1 Axes>"
      ]
     },
     "metadata": {
      "needs_background": "light"
     },
     "output_type": "display_data"
    }
   ],
   "source": [
    "plot=sns.boxplot(df['trtbps'])\n",
    "plt.title('Boxplot for trtbps')\n",
    "plt.xlabel('Trtbps (in mm Hg)')\n",
    "\n",
    "plt.show()"
   ]
  },
  {
   "cell_type": "code",
   "execution_count": 997,
   "metadata": {
    "scrolled": true
   },
   "outputs": [
    {
     "data": {
      "image/png": "[encoded data removed]",
      "text/plain": [
       "<Figure size 432x288 with 1 Axes>"
      ]
     },
     "metadata": {
      "needs_background": "light"
     },
     "output_type": "display_data"
    }
   ],
   "source": [
    "plot=sns.boxplot(df['thalachh'])\n",
    "plt.title('Boxplot for thalachh')\n",
    "plt.xlabel('Thalachh')\n",
    "\n",
    "plt.show()"
   ]
  },
  {
   "cell_type": "code",
   "execution_count": 998,
   "metadata": {},
   "outputs": [
    {
     "data": {
      "image/png": "[encoded data removed]",
      "text/plain": [
       "<Figure size 432x288 with 1 Axes>"
      ]
     },
     "metadata": {
      "needs_background": "light"
     },
     "output_type": "display_data"
    }
   ],
   "source": [
    "plot=sns.boxplot(df['chol'])\n",
    "plt.title('Boxplot for chol')\n",
    "plt.xlabel('Chol (in mg/dl)')\n",
    "\n",
    "plt.show()"
   ]
  },
  {
   "cell_type": "markdown",
   "metadata": {},
   "source": [
    "There are outliers in oldpeak, trtbps, thalachh, chol columns. We will remove them using measure of statistical dispersion - the interquartile range (IQR)."
   ]
  },
  {
   "cell_type": "code",
   "execution_count": 999,
   "metadata": {},
   "outputs": [],
   "source": [
    "q1 = df['oldpeak'].quantile(0.25)\n",
    "q3 = df['oldpeak'].quantile(0.75)\n",
    "IQR = q3 - q1    \n",
    "\n",
    "outlier = (df['oldpeak'] >= q1 - 1.5*IQR)&(df['oldpeak'] <= q3 + 1.5*IQR)\n",
    "\n",
    "df_new=df.loc[outlier]   "
   ]
  },
  {
   "cell_type": "code",
   "execution_count": 1000,
   "metadata": {},
   "outputs": [],
   "source": [
    "q1 = df['trtbps'].quantile(0.25)\n",
    "q3 = df['trtbps'].quantile(0.75)\n",
    "IQR = q3 - q1    \n",
    "\n",
    "outlier = (df['trtbps'] >= q1 - 1.5*IQR)&(df['trtbps'] <= q3 + 1.5*IQR)\n",
    "\n",
    "df_new=df.loc[outlier] "
   ]
  },
  {
   "cell_type": "code",
   "execution_count": 1001,
   "metadata": {},
   "outputs": [],
   "source": [
    "q1 = df['thalachh'].quantile(0.25)\n",
    "q3 = df['thalachh'].quantile(0.75)\n",
    "IQR = q3 - q1    \n",
    "\n",
    "outlier = (df['thalachh'] >= q1 - 1.5*IQR)&(df['thalachh'] <= q3 + 1.5*IQR)\n",
    "\n",
    "df_new=df.loc[outlier]  "
   ]
  },
  {
   "cell_type": "code",
   "execution_count": 1002,
   "metadata": {},
   "outputs": [],
   "source": [
    "q1 = df['chol'].quantile(0.25)\n",
    "q3 = df['chol'].quantile(0.75)\n",
    "IQR = q3 - q1     \n",
    "\n",
    "outlier = (df['chol'] >= q1 - 1.5*IQR)&(df['chol'] <= q3 + 1.5*IQR)\n",
    "\n",
    "df_new=df.loc[outlier]    "
   ]
  },
  {
   "cell_type": "code",
   "execution_count": 1003,
   "metadata": {},
   "outputs": [
    {
     "name": "stdout",
     "output_type": "stream",
     "text": [
      "Outliers were removed\n"
     ]
    }
   ],
   "source": [
    "df = df_new\n",
    "print('Outliers were removed')"
   ]
  },
  {
   "cell_type": "code",
   "execution_count": 1004,
   "metadata": {},
   "outputs": [
    {
     "name": "stdout",
     "output_type": "stream",
     "text": [
      "Reject null hypothesis - continuous numerical variable 'age' is not normal\n"
     ]
    }
   ],
   "source": [
    "if (stats.shapiro(df['age'])[1] < 0.05):\n",
    "    print(\"Reject null hypothesis - continuous numerical variable 'age' is not normal\")\n",
    "else:\n",
    "    print(\"Accept null hypothesis - continuous numerical variable 'age' is normal\")"
   ]
  },
  {
   "cell_type": "code",
   "execution_count": 1005,
   "metadata": {
    "scrolled": true
   },
   "outputs": [
    {
     "name": "stdout",
     "output_type": "stream",
     "text": [
      "Reject null hypothesis - continuous numerical variable 'oldpeak' is not normal\n"
     ]
    }
   ],
   "source": [
    "if (stats.shapiro(df['oldpeak'])[1] < 0.05):\n",
    "    print(\"Reject null hypothesis - continuous numerical variable 'oldpeak' is not normal\")\n",
    "else:\n",
    "    print(\"Accept null hypothesis - continuous numerical variable 'oldpeak' is normal\")"
   ]
  },
  {
   "cell_type": "code",
   "execution_count": 1006,
   "metadata": {},
   "outputs": [
    {
     "name": "stdout",
     "output_type": "stream",
     "text": [
      "Reject null hypothesis - continuous numerical variable 'trtbps' is not normal\n"
     ]
    }
   ],
   "source": [
    "if (stats.shapiro(df['trtbps'])[1] < 0.05):\n",
    "    print(\"Reject null hypothesis - continuous numerical variable 'trtbps' is not normal\")\n",
    "else:\n",
    "    print(\"Accept null hypothesis - continuous numerical variable 'trtbps' is normal\")"
   ]
  },
  {
   "cell_type": "code",
   "execution_count": 1007,
   "metadata": {
    "scrolled": true
   },
   "outputs": [
    {
     "name": "stdout",
     "output_type": "stream",
     "text": [
      "Reject null hypothesis - continuous numerical variable 'thalachh' is not normal\n"
     ]
    }
   ],
   "source": [
    "if (stats.shapiro(df['thalachh'])[1] < 0.05):\n",
    "    print(\"Reject null hypothesis - continuous numerical variable 'thalachh' is not normal\")\n",
    "else:\n",
    "    print(\"Accept null hypothesis - continuous numerical variable 'thalachh' is normal\")"
   ]
  },
  {
   "cell_type": "code",
   "execution_count": 1008,
   "metadata": {},
   "outputs": [
    {
     "name": "stdout",
     "output_type": "stream",
     "text": [
      "Accept null hypothesis - continuous numerical variable 'chol' is normal\n"
     ]
    }
   ],
   "source": [
    "if (stats.shapiro(df['chol'])[1] < 0.05):\n",
    "    print(\"Reject null hypothesis - continuous numerical variable 'chol' is not normal\")\n",
    "else:\n",
    "    print(\"Accept null hypothesis - continuous numerical variable 'chol' is normal\")\n"
   ]
  },
  {
   "cell_type": "markdown",
   "metadata": {},
   "source": [
    "Research questions:\n",
    "1. In terms of average level of cholestrol do people with a higher probability of heart attack differ from the ones having the lower probability?\n",
    "2. Do women and men aged older than the middle age of the corresponding genders have more chances of heart attack than females and males younger these ages?\n",
    "3. When considering people with asymptomatic chest pain type, what is the difference between males and females in mean resting blood pressure?"
   ]
  },
  {
   "cell_type": "markdown",
   "metadata": {},
   "source": [
    "<h3><center>Analysis</center></h3>"
   ]
  },
  {
   "cell_type": "markdown",
   "metadata": {},
   "source": [
    "1. In terms of average level of cholestrol do people with a higher probability of heart attack differ from the ones having the lower probability? "
   ]
  },
  {
   "cell_type": "markdown",
   "metadata": {},
   "source": [
    "<b>Null hypothesis:</b> There is no difference between given two groups in terms of average level of cholestrol <br>\n",
    "<b>Alternate hypothesis:</b> There is difference between given two groups in terms of average level of cholestrol\n",
    "\n",
    "Choose threshold as 5%. \n",
    "\n",
    "A p-value larger than a chosen threshold indicates that our observation is not so unlikely to have occurred. If the threshold is greater than p-value, then we have evidence against the null hypothesis.\n",
    "\n",
    "Here, since we have already checked continuous variable <b>chol</b> for normality (which is normally distributed) we can use parametric statistical test, specifically, independent samples t-test."
   ]
  },
  {
   "cell_type": "code",
   "execution_count": 1017,
   "metadata": {},
   "outputs": [
    {
     "name": "stdout",
     "output_type": "stream",
     "text": [
      "Ttest_indResult(statistic=-2.0222507906656726, pvalue=0.0440496200017402)\n"
     ]
    }
   ],
   "source": [
    "df_high_probability_heart_attack = df[df['output'] == 1]\n",
    "df_low_probability_heart_attack = df[df['output'] == 0]\n",
    "\n",
    "print(stats.ttest_ind(df_high_probability_heart_attack['chol'], df_low_probability_heart_attack['chol'], equal_var = 1))"
   ]
  },
  {
   "cell_type": "markdown",
   "metadata": {},
   "source": [
    "After calculating the T-test for the means of two independent samples of scores, we produced a result of pvalue = 0.044 which is less than the set threshold value (0.05).\n",
    "\n",
    "Therefore, we should reject null hypothesis and, thereby, <b>there is</b> difference between groups of people with more chance of heart attack and less chance of heart attack in terms of average level of cholestrol"
   ]
  },
  {
   "cell_type": "markdown",
   "metadata": {},
   "source": [
    "2. Do women and men aged older than the middle age of the corresponding genders have more chances of heart attack than females and males younger these ages?"
   ]
  },
  {
   "cell_type": "code",
   "execution_count": 1010,
   "metadata": {},
   "outputs": [
    {
     "name": "stdout",
     "output_type": "stream",
     "text": [
      "Total number of men in the dataset is 207 with 93 males who had heart attack.\n",
      "30.097% of males, older than the middle age (53.758 years), had heart attack.\n",
      "On the other hand, 59.615% of males, younger than the middle age, had heart attack.\n",
      "\n",
      "\n",
      "Total number of women in the dataset is 91 with 69 females who had heart attack.\n",
      "60.784% of females, older than the middle age (55.297 years), had heart attack.\n",
      "On the other hand, 95.0% of females, younger than the middle age, had heart attack.\n"
     ]
    }
   ],
   "source": [
    "males_overall = df[df['sex'] == 'Male']['output'].count()\n",
    "males_heart_attack = df[(df['output'] == 1) & (df['sex'] == 'Male')]['output'].count()\n",
    "males_older_middle = df[(df['age'] > df['age'].mean()) & (df['sex'] == 'Male')].set_index('output').groupby(level=0)['sex'].agg({np.size})\n",
    "males_younger_middle = df[(df['age'] < df['age'].mean()) & (df['sex'] == 'Male')].set_index('output').groupby(level=0)['sex'].agg({np.size})\n",
    "males_middle = df[df['sex'] == 'Male']['age'].mean()\n",
    "\n",
    "\n",
    "\n",
    "females_overall = df[df['sex'] == 'Female']['output'].count()\n",
    "females_heart_attack = df[(df['output'] == 1) & (df['sex'] == 'Female')]['output'].count()\n",
    "females_older_middle = df[(df['age'] > df['age'].mean()) & (df['sex'] == 'Female')].set_index('output').groupby(level=0)['sex'].agg({np.size})\n",
    "females_younger_middle = df[(df['age'] < df['age'].mean()) & (df['sex'] == 'Female')].set_index('output').groupby(level=0)['sex'].agg({np.size})\n",
    "females_middle = df[df['sex'] == 'Female']['age'].mean()\n",
    "\n",
    "print(f'Total number of men in the dataset is {males_overall} with {males_heart_attack} males who had heart attack.\\n'\n",
    "      f'{round(males_older_middle.iloc[1,0]*100/(males_older_middle.iloc[0,0]+males_older_middle.iloc[1,0]), 3)}% of males, older than the middle age ({round(males_middle, 3)} years), had heart attack.\\n'\n",
    "      f'On the other hand, {round(males_younger_middle.iloc[1,0]*100/(males_younger_middle.iloc[0,0]+males_younger_middle.iloc[1,0]), 3)}% of males, younger than the middle age, had heart attack.\\n\\n')\n",
    "\n",
    "print(f'Total number of women in the dataset is {females_overall} with {females_heart_attack} females who had heart attack.\\n'\n",
    "      f'{round(females_older_middle.iloc[1,0]*100/(females_older_middle.iloc[0,0]+females_older_middle.iloc[1,0]), 3)}% of females, older than the middle age ({round(females_middle, 3)} years), had heart attack.\\n'\n",
    "      f'On the other hand, {round(females_younger_middle.iloc[1,0]*100/(females_younger_middle.iloc[0,0]+females_younger_middle.iloc[1,0]), 3)}% of females, younger than the middle age, had heart attack.')\n"
   ]
  },
  {
   "cell_type": "markdown",
   "metadata": {},
   "source": [
    "<br>\n",
    "<br>\n",
    "Therefore, women and men aged older than the middle age of the corresponding genders have <b>less chances</b> of heart attack than females and males younger these ages."
   ]
  },
  {
   "cell_type": "markdown",
   "metadata": {},
   "source": [
    "<br>\n",
    "<br>\n",
    "3. When considering people with asymptomatic chest pain type, what is the difference between males and females in mean resting blood pressure?"
   ]
  },
  {
   "cell_type": "markdown",
   "metadata": {},
   "source": [
    "<b>Null hypothesis:</b> Males and Females with asymptomatic chest pain have equal resting blood pressure means <br>\n",
    "\n",
    "<b>Alternate hypothesis:</b> Males and Females with asymptomatic chest pain have not equal resting blood pressure means <br><br>\n",
    "\n",
    "Choose threshold as 5%.\n",
    "\n",
    "Since continuous variable <b>trtbps</b> is not normally distributed, we cannot use parametric statistical test. Instead, we should use non-parametric test, specifically, Mann-Whitney U test (pyshark.com)."
   ]
  },
  {
   "cell_type": "code",
   "execution_count": 1011,
   "metadata": {},
   "outputs": [
    {
     "name": "stdout",
     "output_type": "stream",
     "text": [
      "MannwhitneyuResult(statistic=26.5, pvalue=0.18548650613376405)\n"
     ]
    }
   ],
   "source": [
    "males_with_asymptomatic = df[(df['sex'] == 'Male') & (df['cp'] == 3)]\n",
    "females_with_asymptomatic = df[(df['sex'] == 'Female') & (df['cp'] == 3)]\n",
    "\n",
    "\n",
    "print(stats.mannwhitneyu(males_with_asymptomatic['trtbps'], females_with_asymptomatic['trtbps']))"
   ]
  },
  {
   "cell_type": "markdown",
   "metadata": {},
   "source": [
    "After calculating the Mann-Whitney U test for the means of two independent samples of scores, we produced a result of pvalue = 0.185 which is greater than the set threshold value (0.05).<br><br>\n",
    "Therefore, we should accept null hypothesis and, thereby, males and females with asymptomatic chest pain have equal resting blood pressure means.<br><br><br>"
   ]
  },
  {
   "cell_type": "markdown",
   "metadata": {},
   "source": [
    "For additional information, here I plotted correlation matrix to show the correlations between features.<br><br>\n",
    "The darker the shade is, the stronger correlation. "
   ]
  },
  {
   "cell_type": "code",
   "execution_count": 1016,
   "metadata": {},
   "outputs": [
    {
     "data": {
      "text/plain": [
       "<AxesSubplot:title={'center':'Correlation matrix'}>"
      ]
     },
     "execution_count": 1016,
     "metadata": {},
     "output_type": "execute_result"
    },
    {
     "data": {
      "image/png": "[encoded data removed]",
      "text/plain": [
       "<Figure size 1440x720 with 2 Axes>"
      ]
     },
     "metadata": {
      "needs_background": "light"
     },
     "output_type": "display_data"
    }
   ],
   "source": [
    "plt.figure(figsize = (20, 10))\n",
    "plt.title(\"Correlation matrix\",fontsize = 15)\n",
    "\n",
    "sns.heatmap(df.corr(),cmap = \"YlGnBu\",linewidth=1, annot= True)"
   ]
  },
  {
   "cell_type": "markdown",
   "metadata": {},
   "source": [
    "<h3><center>Discussion and Conclusion</center></h3>"
   ]
  },
  {
   "cell_type": "markdown",
   "metadata": {},
   "source": [
    "1. In the first research question I had to test the hypothesis that in terms of average level of cholesterol people with more chance of heart attack differ from the ones with less chance. To answer this question, I used parametrical statistical test, specifically, independent samples t-test. However, to use the test the normality of considered data should be confirmed. In the Introduction part, I used boxplots and interquartile ranges to remove outliers from the continuous variables and Shapiro-Wilk test to check if the data is normally distributed. The outliers were removed from oldpeak, trtbps, thalachh, chol columns and it turned out that among all continuous variables only chol variable is normal. After conducting normality test, first research question was answered. Since chol data is normally distributed I implemented independent samples t-test from scipy library. Comparing the pvalue to the given threshold of 0.05, I’ve found out that there is significant difference between groups of people with more chance of heart attack and less chance of heart attack in terms of average level of cholesterol.<br><br>\n",
    "In the second research question I had to compare the respondents of both genders aged older than own corresponding middle ages with the people aged younger those ages and find out who have higher probability of heart attack. The result was astonishing since young people had higher chances of heart attack which was not expected.<br><br>\n",
    "In the third question I had to compare mean resting blood pressures between genders with asymptomatic chest pain type. In order to approach this question, I used inferential procedure non-parametric test, specifically, Mann-Whitney U test. Since the considered variable is not normally distributed, it is possible. Also, this test can be found in scipy library. Comparing the pvalue to the given threshold of 5%, it was found out that males and females with asymptomatic chest pain have equal resting blood pressure means.<br><br><br><br>\n",
    "\n",
    "2.\tIn some parts the time of running the code was slow and, moreover, the code was not efficiently implemented. Many lines of code could be reduced using loops, functions of pandas (aggregation, transform, group, etc.) and so on. Perhaps the reason for not implementing in the most efficient ways is the shortage of knowledge and experience. For example, when box plots were plotted, it would be more efficient to combine the graphs into one visual. Moreover, in the second research question many lines of code can be shorted to much less ones. Next time, by efficiently managing time and consulting the office hours, the performance of the project will be improved.<br><br><br><br>\n",
    "3.\tAs was mentioned the dataset was taken from Kaggle website. Exploratory data analysis was implemented to identify what reasons effect the heart attack. In the dataset no missing values were found. The only technique to clean the data was removing the outliers which was rapidly implemented. In the dataset there 12 numerical, 1 float and 1 object data types. However, it was not mentioned in the Kaggle repository how and when the data was collected and where are the respondents from. Moreover, the results of the second research question, i.e. young people have higher chances of heart attack, are dubious and need to be tested on larger or completely different dataset. However, the dataset is highly demanded on Kaggle. Overall, it is unclear if the dataset is reliable and valid despite of high popularity of users.<br><br><br><br>\n",
    "4.\tTwo biggest mistakes during the implementing of this project are poor time management and lack of experience doing Data Science projects. Regarding the last reason, the project was very open ended, therefore, it was unclear how to execute and approach the assignment. The assignments on Coursera demanded specific and concrete tasks and simply practice using new techniques. However, in this project I spent significant amount of time choosing the dataset and couple times even changing it. Finally, the dataset is perfect for Machine Learning assignments, testing various algorithms and improve model’s accuracy using the features and predict the target value of output variable (0= less chance of heart attack 1= more chance of heart attack). \n"
   ]
  }
 ],
 "metadata": {
  "kernelspec": {
   "display_name": "Python 3",
   "language": "python",
   "name": "python3"
  },
  "language_info": {
   "codemirror_mode": {
    "name": "ipython",
    "version": 3
   },
   "file_extension": ".py",
   "mimetype": "text/x-python",
   "name": "python",
   "nbconvert_exporter": "python",
   "pygments_lexer": "ipython3",
   "version": "3.8.5"
  }
 },
 "nbformat": 4,
 "nbformat_minor": 4
}
